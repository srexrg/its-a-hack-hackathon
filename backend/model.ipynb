{
 "cells": [
  {
   "cell_type": "markdown",
   "metadata": {},
   "source": [
    "# Delivery Time Estimation Tool\n",
    "\n",
    "This notebook implements a tool for estimating delivery times using a Random Forest Regressor."
   ]
  },
  {
   "cell_type": "code",
   "execution_count": 1,
   "metadata": {},
   "outputs": [],
   "source": [
    "import pandas as pd\n",
    "import numpy as np\n",
    "from sklearn.model_selection import train_test_split\n",
    "from sklearn.ensemble import RandomForestRegressor\n",
    "from sklearn.metrics import mean_absolute_error\n",
    "from sklearn.preprocessing import StandardScaler"
   ]
  },
  {
   "cell_type": "code",
   "execution_count": 2,
   "metadata": {},
   "outputs": [],
   "source": [
    "class DeliveryTimeEstimationTool:\n",
    "    def __init__(self):\n",
    "        self.model = RandomForestRegressor(n_estimators=100, random_state=42)\n",
    "        self.scaler = StandardScaler()\n",
    "        self.features = ['distance', 'package_size', 'day_of_week']\n",
    "        self.target = 'delivery_time'\n",
    "        self.data = None\n",
    "        self.accuracy_history = []\n",
    "\n",
    "    def load_data(self, file_path):\n",
    "        self.data = pd.read_csv(file_path)\n",
    "        print(\"Data loaded successfully.\")\n",
    "\n",
    "    def preprocess_data(self):\n",
    "        if self.data is None:\n",
    "            raise ValueError(\"No data loaded. Please load data first.\")\n",
    "\n",
    "        # Convert day of week to numerical\n",
    "        self.data['day_of_week'] = pd.to_datetime(self.data['date']).dt.dayofweek\n",
    "\n",
    "        # Normalize numerical features\n",
    "        self.data[self.features] = self.scaler.fit_transform(self.data[self.features])\n",
    "        \n",
    "        # Store feature names after scaling\n",
    "        self.feature_names_ = self.features\n",
    "\n",
    "    def train_model(self):\n",
    "        if self.data is None:\n",
    "            raise ValueError(\"No data loaded. Please load data first.\")\n",
    "\n",
    "        X = self.data[self.features]\n",
    "        y = self.data[self.target]\n",
    "\n",
    "        X_train, X_test, y_train, y_test = train_test_split(X, y, test_size=0.2, random_state=42)\n",
    "\n",
    "        self.model.fit(X_train, y_train)\n",
    "\n",
    "        # Calculate accuracy\n",
    "        y_pred = self.model.predict(X_test)\n",
    "        accuracy = 1 - mean_absolute_error(y_test, y_pred) / np.mean(y_test)\n",
    "        self.accuracy_history.append(accuracy)\n",
    "\n",
    "        print(f\"Model trained. Current accuracy: {accuracy:.2%}\")\n",
    "\n",
    "    def predict_delivery_time(self, distance, package_size, day_of_week):\n",
    "        if self.model is None:\n",
    "            raise ValueError(\"Model not trained. Please train the model first.\")\n",
    "\n",
    "        input_data = pd.DataFrame([[distance, package_size, day_of_week]], \n",
    "                                  columns=self.feature_names_)\n",
    "        input_data_scaled = pd.DataFrame(self.scaler.transform(input_data),\n",
    "                                         columns=self.feature_names_)\n",
    "        prediction = self.model.predict(input_data_scaled)[0]\n",
    "\n",
    "        return prediction\n",
    "\n",
    "\n",
    "    def adjust_prediction(self, prediction, adjustment_factor):\n",
    "        return prediction * adjustment_factor\n",
    "\n",
    "    def track_performance(self):\n",
    "        if not self.accuracy_history:\n",
    "            print(\"No performance data available yet.\")\n",
    "        else:\n",
    "            print(\"Accuracy history:\")\n",
    "            for i, acc in enumerate(self.accuracy_history):\n",
    "                print(f\"Iteration {i+1}: {acc:.2%}\")"
   ]
  },
  {
   "cell_type": "markdown",
   "metadata": {},
   "source": [
    "## Example Usage"
   ]
  },
  {
   "cell_type": "code",
   "execution_count": 3,
   "metadata": {},
   "outputs": [
    {
     "name": "stdout",
     "output_type": "stream",
     "text": [
      "Data loaded successfully.\n",
      "Model trained. Current accuracy: 97.94%\n"
     ]
    }
   ],
   "source": [
    "# Initialize the tool\n",
    "tool = DeliveryTimeEstimationTool()\n",
    "\n",
    "# Load data (assuming you have a CSV file with the required columns)\n",
    "tool.load_data(\"sample-delivery-data.csv\")\n",
    "\n",
    "# Preprocess and train the model\n",
    "tool.preprocess_data()\n",
    "tool.train_model()"
   ]
  },
  {
   "cell_type": "code",
   "execution_count": 4,
   "metadata": {},
   "outputs": [
    {
     "name": "stdout",
     "output_type": "stream",
     "text": [
      "Estimated delivery time: 4.72 hours\n",
      "Adjusted delivery time: 5.19 hours\n"
     ]
    }
   ],
   "source": [
    "# Make a prediction\n",
    "distance = 28  # km\n",
    "package_size = 3  # size category\n",
    "day_of_week = 3  # Wednesday (0 = Monday, 6 = Sunday)\n",
    "\n",
    "estimated_time = tool.predict_delivery_time(distance, package_size, day_of_week)\n",
    "print(f\"Estimated delivery time: {estimated_time:.2f} hours\")\n",
    "\n",
    "# Adjust prediction\n",
    "adjustment_factor = 1.1  # 10% increase\n",
    "adjusted_time = tool.adjust_prediction(estimated_time, adjustment_factor)\n",
    "print(f\"Adjusted delivery time: {adjusted_time:.2f} hours\")"
   ]
  },
  {
   "cell_type": "code",
   "execution_count": 5,
   "metadata": {},
   "outputs": [
    {
     "name": "stdout",
     "output_type": "stream",
     "text": [
      "Accuracy history:\n",
      "Iteration 1: 96.23%\n"
     ]
    }
   ],
   "source": [
    "# Track performance\n",
    "tool.track_performance()"
   ]
  }
 ],
 "metadata": {
  "kernelspec": {
   "display_name": "Python 3",
   "language": "python",
   "name": "python3"
  },
  "language_info": {
   "codemirror_mode": {
    "name": "ipython",
    "version": 3
   },
   "file_extension": ".py",
   "mimetype": "text/x-python",
   "name": "python",
   "nbconvert_exporter": "python",
   "pygments_lexer": "ipython3",
   "version": "3.10.0"
  }
 },
 "nbformat": 4,
 "nbformat_minor": 4
}
